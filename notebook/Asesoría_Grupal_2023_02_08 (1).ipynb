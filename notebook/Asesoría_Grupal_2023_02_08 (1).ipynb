{
  "nbformat": 4,
  "nbformat_minor": 0,
  "metadata": {
    "colab": {
      "provenance": [],
      "collapsed_sections": [
        "-1Pdkfxt-PtZ"
      ]
    },
    "kernelspec": {
      "name": "python3",
      "display_name": "Python 3"
    },
    "language_info": {
      "name": "python"
    }
  },
  "cells": [
    {
      "cell_type": "markdown",
      "source": [
        "# Asesoría Grupal\n",
        "\n",
        "Esta es una ejemplificación de como usar colabs aprovechando los niveles de Markdown."
      ],
      "metadata": {
        "id": "9pHEWYIz8RXT"
      }
    },
    {
      "cell_type": "markdown",
      "source": [
        "# Subtítulo 1"
      ],
      "metadata": {
        "id": "TtoBihLI8WlC"
      }
    },
    {
      "cell_type": "code",
      "execution_count": 1,
      "metadata": {
        "id": "cAT4GmHO8G__"
      },
      "outputs": [],
      "source": [
        "def replace_characters(source_string, source_characters, target_characters):\n",
        "    \"\"\"Remove the characters from a string.\"\"\"\n",
        "    return source_string.replace(source_characters, target_characters)"
      ]
    },
    {
      "cell_type": "markdown",
      "source": [
        "## Subtítulo 2"
      ],
      "metadata": {
        "id": "-7x8B9_s9D1b"
      }
    },
    {
      "cell_type": "markdown",
      "source": [
        "Aqui va un texto que pertenece a subtítulo 2"
      ],
      "metadata": {
        "id": "dKbKrlIc9GrB"
      }
    },
    {
      "cell_type": "code",
      "source": [
        "target_string = replace_characters(\"UCAMP12\", \"12\", \"\")\n",
        "print(target_string)"
      ],
      "metadata": {
        "colab": {
          "base_uri": "https://localhost:8080/"
        },
        "id": "rXBdzBwI9HXB",
        "outputId": "274ca4a5-bc2f-4651-8bd3-4c007b9db525"
      },
      "execution_count": 2,
      "outputs": [
        {
          "output_type": "stream",
          "name": "stdout",
          "text": [
            "UCAMP\n"
          ]
        }
      ]
    },
    {
      "cell_type": "markdown",
      "source": [
        "### Subsubtítulo 1"
      ],
      "metadata": {
        "id": "-1Pdkfxt-PtZ"
      }
    },
    {
      "cell_type": "markdown",
      "source": [
        "Lorem ipsum"
      ],
      "metadata": {
        "id": "mdsPDM4f-Uwa"
      }
    },
    {
      "cell_type": "code",
      "source": [
        "target_string = \"other\""
      ],
      "metadata": {
        "id": "J8oRx-mD-WeN"
      },
      "execution_count": null,
      "outputs": []
    }
  ]
}