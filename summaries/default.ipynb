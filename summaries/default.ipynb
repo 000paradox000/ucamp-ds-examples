{
 "cells": [
  {
   "cell_type": "markdown",
   "id": "b99729cd",
   "metadata": {
    "tags": []
   },
   "source": [
    "# Summaries"
   ]
  },
  {
   "cell_type": "markdown",
   "id": "a57dcc90-b88d-4b1d-9ab6-290b398d2563",
   "metadata": {
    "jp-MarkdownHeadingCollapsed": true,
    "tags": []
   },
   "source": [
    "## Libraries"
   ]
  },
  {
   "cell_type": "code",
   "execution_count": 1,
   "id": "50865e8b-1658-4fb6-862a-3f9563cbf1a8",
   "metadata": {
    "tags": []
   },
   "outputs": [],
   "source": [
    "import numpy as np\n",
    "import pandas as pd"
   ]
  },
  {
   "cell_type": "markdown",
   "id": "2e45dd53-1b60-418c-a19a-0ef76bfb5071",
   "metadata": {
    "jp-MarkdownHeadingCollapsed": true,
    "tags": []
   },
   "source": [
    "## Functions"
   ]
  },
  {
   "cell_type": "code",
   "execution_count": 65,
   "id": "dcade802-a709-45ae-90be-78c7b5054a31",
   "metadata": {
    "tags": []
   },
   "outputs": [],
   "source": [
    "def create_pandas_dataframe():\n",
    "    return pd.DataFrame(\n",
    "        [\n",
    "            ['Ana', 28, 1.72, True, 8],\n",
    "            ['Bruno', 33, 1.69, False, 7],\n",
    "            ['César', 34, 1.77, False, 8],\n",
    "            ['Diego', 23, 1.79, True, 10],\n",
    "            ['Erika', 25, 1.69, True, 7]\n",
    "        ],\n",
    "        columns=[\"name\", \"age\", \"height\", \"has_linux\", \"grade\"]\n",
    "    )"
   ]
  },
  {
   "cell_type": "markdown",
   "id": "03d7ebc2",
   "metadata": {
    "jp-MarkdownHeadingCollapsed": true,
    "tags": []
   },
   "source": [
    "## Python"
   ]
  },
  {
   "cell_type": "markdown",
   "id": "7a282458",
   "metadata": {
    "jp-MarkdownHeadingCollapsed": true,
    "tags": []
   },
   "source": [
    "### $2^{3^2}$"
   ]
  },
  {
   "cell_type": "code",
   "execution_count": 2,
   "id": "772ff81d",
   "metadata": {},
   "outputs": [
    {
     "data": {
      "text/plain": [
       "512"
      ]
     },
     "execution_count": 2,
     "metadata": {},
     "output_type": "execute_result"
    }
   ],
   "source": [
    "2**3**2"
   ]
  },
  {
   "cell_type": "markdown",
   "id": "7b99d6d4",
   "metadata": {
    "jp-MarkdownHeadingCollapsed": true,
    "tags": []
   },
   "source": [
    "### $\\sqrt[2]{25}$"
   ]
  },
  {
   "cell_type": "code",
   "execution_count": 3,
   "id": "958f698b",
   "metadata": {},
   "outputs": [
    {
     "name": "stdout",
     "output_type": "stream",
     "text": [
      "5.0\n"
     ]
    }
   ],
   "source": [
    "print(25 ** (1/2))"
   ]
  },
  {
   "cell_type": "markdown",
   "id": "4dd333ce",
   "metadata": {
    "jp-MarkdownHeadingCollapsed": true,
    "tags": []
   },
   "source": [
    "### $\\sqrt[3]{64}$"
   ]
  },
  {
   "cell_type": "code",
   "execution_count": 4,
   "id": "862dd698",
   "metadata": {},
   "outputs": [
    {
     "name": "stdout",
     "output_type": "stream",
     "text": [
      "3.9999999999999996\n"
     ]
    }
   ],
   "source": [
    "print(64 ** (1/3))"
   ]
  },
  {
   "cell_type": "markdown",
   "id": "5c4cd70b-3bf4-4dee-b77a-c5b5848ef08b",
   "metadata": {
    "jp-MarkdownHeadingCollapsed": true,
    "tags": []
   },
   "source": [
    "### Quotient and residue"
   ]
  },
  {
   "cell_type": "code",
   "execution_count": 5,
   "id": "2e273058-aa6f-4a15-bbe4-081cd09eec0c",
   "metadata": {
    "tags": []
   },
   "outputs": [
    {
     "data": {
      "text/plain": [
       "3"
      ]
     },
     "execution_count": 5,
     "metadata": {},
     "output_type": "execute_result"
    }
   ],
   "source": [
    "22 // 6"
   ]
  },
  {
   "cell_type": "code",
   "execution_count": 6,
   "id": "f7e45052-a226-4d83-81b3-c7f7c4d90a62",
   "metadata": {
    "tags": []
   },
   "outputs": [
    {
     "data": {
      "text/plain": [
       "4"
      ]
     },
     "execution_count": 6,
     "metadata": {},
     "output_type": "execute_result"
    }
   ],
   "source": [
    "22 % 6"
   ]
  },
  {
   "cell_type": "markdown",
   "id": "6d725624-12be-4f26-8eec-e9a1855e4e37",
   "metadata": {
    "jp-MarkdownHeadingCollapsed": true,
    "tags": []
   },
   "source": [
    "### Tuple as dict key"
   ]
  },
  {
   "cell_type": "code",
   "execution_count": 7,
   "id": "410eb0cc-5527-4865-a0e7-8b8e07e047bc",
   "metadata": {
    "tags": []
   },
   "outputs": [
    {
     "data": {
      "text/plain": [
       "{(1, 2, 3): ['gold', 'silver coins'], (2, 4, 5.6): 'ship'}"
      ]
     },
     "execution_count": 7,
     "metadata": {},
     "output_type": "execute_result"
    }
   ],
   "source": [
    "tuple_as_dict_key = {\n",
    "    (1, 2, 3): ['gold', 'silver coins'],\n",
    "    (2, 4, 5.6): 'ship'\n",
    "}\n",
    "\n",
    "tuple_as_dict_key"
   ]
  },
  {
   "cell_type": "markdown",
   "id": "1918cbb3-4649-4ea1-b2dc-c90c27167b0b",
   "metadata": {
    "jp-MarkdownHeadingCollapsed": true,
    "tags": []
   },
   "source": [
    "## Numpy"
   ]
  },
  {
   "cell_type": "markdown",
   "id": "38086ae1-d20c-4d35-bc19-d0472fd6b82f",
   "metadata": {
    "jp-MarkdownHeadingCollapsed": true,
    "tags": []
   },
   "source": [
    "### Create arrays"
   ]
  },
  {
   "cell_type": "code",
   "execution_count": 8,
   "id": "041087ba-b159-4f47-b46a-e08b6608c6af",
   "metadata": {
    "tags": []
   },
   "outputs": [
    {
     "data": {
      "text/plain": [
       "array([1, 4, 5])"
      ]
     },
     "execution_count": 8,
     "metadata": {},
     "output_type": "execute_result"
    }
   ],
   "source": [
    "np.array([1, 4, 5])"
   ]
  },
  {
   "cell_type": "code",
   "execution_count": 9,
   "id": "6e301fa0-9bcb-40eb-8cb9-f323e756c53c",
   "metadata": {
    "tags": []
   },
   "outputs": [
    {
     "data": {
      "text/plain": [
       "array([[1, 4, 5],\n",
       "       [2, 5, 7]])"
      ]
     },
     "execution_count": 9,
     "metadata": {},
     "output_type": "execute_result"
    }
   ],
   "source": [
    "np.array([[1, 4, 5], [2, 5, 7]])"
   ]
  },
  {
   "cell_type": "code",
   "execution_count": 10,
   "id": "f3c7db5e-372a-48a3-aa41-d0435a8327b8",
   "metadata": {
    "tags": []
   },
   "outputs": [
    {
     "data": {
      "text/plain": [
       "array([[1, 4, 5],\n",
       "       [2, 5, 7]])"
      ]
     },
     "execution_count": 10,
     "metadata": {},
     "output_type": "execute_result"
    }
   ],
   "source": [
    "np.array([(1, 4, 5), (2, 5, 7)])"
   ]
  },
  {
   "cell_type": "code",
   "execution_count": 11,
   "id": "9759dd28-09a2-4670-a81c-bd50b614397b",
   "metadata": {
    "tags": []
   },
   "outputs": [
    {
     "data": {
      "text/plain": [
       "array([0., 0., 0., 0.])"
      ]
     },
     "execution_count": 11,
     "metadata": {},
     "output_type": "execute_result"
    }
   ],
   "source": [
    "np.zeros(4)"
   ]
  },
  {
   "cell_type": "code",
   "execution_count": 12,
   "id": "4864cdb8-ec5d-4edf-bb11-f2ed0c0f5b9c",
   "metadata": {
    "tags": []
   },
   "outputs": [
    {
     "data": {
      "text/plain": [
       "array([[0., 0., 0., 0., 0.],\n",
       "       [0., 0., 0., 0., 0.]])"
      ]
     },
     "execution_count": 12,
     "metadata": {},
     "output_type": "execute_result"
    }
   ],
   "source": [
    "np.zeros((2, 5))"
   ]
  },
  {
   "cell_type": "code",
   "execution_count": 13,
   "id": "bf6f858f-45a3-405e-9942-41ebcedd7718",
   "metadata": {
    "tags": []
   },
   "outputs": [
    {
     "data": {
      "text/plain": [
       "array([1., 1., 1., 1.])"
      ]
     },
     "execution_count": 13,
     "metadata": {},
     "output_type": "execute_result"
    }
   ],
   "source": [
    "np.ones(4)"
   ]
  },
  {
   "cell_type": "code",
   "execution_count": 14,
   "id": "58ffd25c-4422-4959-afea-a66c95939413",
   "metadata": {
    "tags": []
   },
   "outputs": [
    {
     "data": {
      "text/plain": [
       "array([[34, 34],\n",
       "       [34, 34],\n",
       "       [34, 34]])"
      ]
     },
     "execution_count": 14,
     "metadata": {},
     "output_type": "execute_result"
    }
   ],
   "source": [
    "np.full((3, 2), 34)"
   ]
  },
  {
   "cell_type": "code",
   "execution_count": 15,
   "id": "bfc5d3f9-7994-4102-8801-6d3bf1a5039b",
   "metadata": {
    "tags": []
   },
   "outputs": [
    {
     "data": {
      "text/plain": [
       "array([10, 12, 14, 16, 18])"
      ]
     },
     "execution_count": 15,
     "metadata": {},
     "output_type": "execute_result"
    }
   ],
   "source": [
    "# start, end - 1, step\n",
    "np.arange(10, 20, 2)"
   ]
  },
  {
   "cell_type": "code",
   "execution_count": 16,
   "id": "82df605c-f82e-45dc-b553-5cc636fc64b9",
   "metadata": {
    "tags": []
   },
   "outputs": [
    {
     "data": {
      "text/plain": [
       "array([ 1.  ,  3.25,  5.5 ,  7.75, 10.  ])"
      ]
     },
     "execution_count": 16,
     "metadata": {},
     "output_type": "execute_result"
    }
   ],
   "source": [
    "# start, end, number of parts\n",
    "np.linspace(1, 10, 5)"
   ]
  },
  {
   "cell_type": "markdown",
   "id": "edcda4d0-8e5e-45dc-a1c6-1d6f48ac22a3",
   "metadata": {
    "jp-MarkdownHeadingCollapsed": true,
    "tags": []
   },
   "source": [
    "### Arrays info"
   ]
  },
  {
   "cell_type": "markdown",
   "id": "f2046a60-034f-4b18-93e1-fb898611c592",
   "metadata": {
    "jp-MarkdownHeadingCollapsed": true,
    "tags": []
   },
   "source": [
    "#### Shape"
   ]
  },
  {
   "cell_type": "code",
   "execution_count": 17,
   "id": "f45e82fd-dad6-44bf-8c84-c9d2f5206cc5",
   "metadata": {
    "tags": []
   },
   "outputs": [
    {
     "data": {
      "text/plain": [
       "(3,)"
      ]
     },
     "execution_count": 17,
     "metadata": {},
     "output_type": "execute_result"
    }
   ],
   "source": [
    "np.array([1, 2, 3]).shape"
   ]
  },
  {
   "cell_type": "code",
   "execution_count": 18,
   "id": "e5996159-5644-4854-9ed8-e4b002856c42",
   "metadata": {
    "tags": []
   },
   "outputs": [
    {
     "data": {
      "text/plain": [
       "(2, 3)"
      ]
     },
     "execution_count": 18,
     "metadata": {},
     "output_type": "execute_result"
    }
   ],
   "source": [
    "np.array([\n",
    "    [1, 2, 3], \n",
    "    [4, 5, 6]\n",
    "]).shape"
   ]
  },
  {
   "cell_type": "code",
   "execution_count": 19,
   "id": "2597fc77-bef3-42d9-bdbc-59b2c7b57011",
   "metadata": {
    "tags": []
   },
   "outputs": [
    {
     "data": {
      "text/plain": [
       "(2, 2, 2)"
      ]
     },
     "execution_count": 19,
     "metadata": {},
     "output_type": "execute_result"
    }
   ],
   "source": [
    "np.array([\n",
    "    [[1, 2], [3, 4]], \n",
    "    [[5, 6], [7, 8]]\n",
    "]).shape"
   ]
  },
  {
   "cell_type": "markdown",
   "id": "83b9e9cb-037a-467c-8931-ee5821ec9b63",
   "metadata": {
    "jp-MarkdownHeadingCollapsed": true,
    "tags": []
   },
   "source": [
    "#### Len"
   ]
  },
  {
   "cell_type": "code",
   "execution_count": 20,
   "id": "791740ff-d903-4840-86d5-e9197a9b7a65",
   "metadata": {
    "tags": []
   },
   "outputs": [
    {
     "data": {
      "text/plain": [
       "3"
      ]
     },
     "execution_count": 20,
     "metadata": {},
     "output_type": "execute_result"
    }
   ],
   "source": [
    "len(np.array([1, 2, 3]))"
   ]
  },
  {
   "cell_type": "code",
   "execution_count": 21,
   "id": "5e663b5d-b46c-4398-b715-bfadb6c61914",
   "metadata": {
    "tags": []
   },
   "outputs": [
    {
     "data": {
      "text/plain": [
       "2"
      ]
     },
     "execution_count": 21,
     "metadata": {},
     "output_type": "execute_result"
    }
   ],
   "source": [
    "len(np.array([\n",
    "    [1, 2, 3], \n",
    "    [4, 5, 6]\n",
    "]))"
   ]
  },
  {
   "cell_type": "code",
   "execution_count": 22,
   "id": "6f106ee3-fe1a-47ee-9161-dd0b99a4f5ca",
   "metadata": {
    "tags": []
   },
   "outputs": [
    {
     "data": {
      "text/plain": [
       "2"
      ]
     },
     "execution_count": 22,
     "metadata": {},
     "output_type": "execute_result"
    }
   ],
   "source": [
    "len(np.array([\n",
    "    [[1, 2], [3, 4]], \n",
    "    [[5, 6], [7, 8]]\n",
    "]))"
   ]
  },
  {
   "cell_type": "markdown",
   "id": "8d7bf076-9144-4d41-8605-0375162fcb86",
   "metadata": {
    "jp-MarkdownHeadingCollapsed": true,
    "tags": []
   },
   "source": [
    "#### Ndim"
   ]
  },
  {
   "cell_type": "code",
   "execution_count": 23,
   "id": "fe4d6755-5423-45de-9705-4cbd699071cd",
   "metadata": {
    "tags": []
   },
   "outputs": [
    {
     "data": {
      "text/plain": [
       "1"
      ]
     },
     "execution_count": 23,
     "metadata": {},
     "output_type": "execute_result"
    }
   ],
   "source": [
    "np.array([1, 2, 3]).ndim"
   ]
  },
  {
   "cell_type": "code",
   "execution_count": 24,
   "id": "4efbf735-114a-4f79-a6f8-8a98d39cccb6",
   "metadata": {
    "tags": []
   },
   "outputs": [
    {
     "data": {
      "text/plain": [
       "2"
      ]
     },
     "execution_count": 24,
     "metadata": {},
     "output_type": "execute_result"
    }
   ],
   "source": [
    "np.array([\n",
    "    [1, 2, 3], \n",
    "    [4, 5, 6]\n",
    "]).ndim"
   ]
  },
  {
   "cell_type": "code",
   "execution_count": 25,
   "id": "1bc16d07-de2e-4576-8c0a-59dbc464dc97",
   "metadata": {
    "tags": []
   },
   "outputs": [
    {
     "data": {
      "text/plain": [
       "3"
      ]
     },
     "execution_count": 25,
     "metadata": {},
     "output_type": "execute_result"
    }
   ],
   "source": [
    "np.array([\n",
    "    [[1, 2], [3, 4]], \n",
    "    [[5, 6], [7, 8]]\n",
    "]).ndim"
   ]
  },
  {
   "cell_type": "markdown",
   "id": "4866f78a-cc42-4d29-9861-dfada59e7ec9",
   "metadata": {
    "tags": []
   },
   "source": [
    "#### Size"
   ]
  },
  {
   "cell_type": "code",
   "execution_count": 26,
   "id": "18ac919a-a414-41b0-acd1-bb1adee930b7",
   "metadata": {
    "tags": []
   },
   "outputs": [
    {
     "data": {
      "text/plain": [
       "3"
      ]
     },
     "execution_count": 26,
     "metadata": {},
     "output_type": "execute_result"
    }
   ],
   "source": [
    "np.array([1, 2, 3]).size"
   ]
  },
  {
   "cell_type": "code",
   "execution_count": 27,
   "id": "030f32af-6cc0-45e7-a61c-65259cace47c",
   "metadata": {
    "tags": []
   },
   "outputs": [
    {
     "data": {
      "text/plain": [
       "6"
      ]
     },
     "execution_count": 27,
     "metadata": {},
     "output_type": "execute_result"
    }
   ],
   "source": [
    "np.array([\n",
    "    [1, 2, 3], \n",
    "    [4, 5, 6]\n",
    "]).size"
   ]
  },
  {
   "cell_type": "code",
   "execution_count": 28,
   "id": "61050a68-099b-489c-9812-296b2ca61bb7",
   "metadata": {
    "tags": []
   },
   "outputs": [
    {
     "data": {
      "text/plain": [
       "8"
      ]
     },
     "execution_count": 28,
     "metadata": {},
     "output_type": "execute_result"
    }
   ],
   "source": [
    "np.array([\n",
    "    [[1, 2], [3, 4]], \n",
    "    [[5, 6], [7, 8]]\n",
    "]).size"
   ]
  },
  {
   "cell_type": "markdown",
   "id": "dea9baa8-a796-4e99-a358-07a5e5c1f1af",
   "metadata": {
    "tags": []
   },
   "source": [
    "### Operations"
   ]
  },
  {
   "cell_type": "markdown",
   "id": "5cde066a-ddb2-41e8-bc8c-fa6249091a91",
   "metadata": {
    "jp-MarkdownHeadingCollapsed": true,
    "tags": []
   },
   "source": [
    "#### Sum"
   ]
  },
  {
   "cell_type": "code",
   "execution_count": 29,
   "id": "abf611c3-dee3-40de-bbac-51440b98dc7d",
   "metadata": {
    "tags": []
   },
   "outputs": [
    {
     "data": {
      "text/plain": [
       "array([3, 3, 3])"
      ]
     },
     "execution_count": 29,
     "metadata": {},
     "output_type": "execute_result"
    }
   ],
   "source": [
    "np.array([1, 1, 1]) + np.array([2, 2, 2])"
   ]
  },
  {
   "cell_type": "code",
   "execution_count": 30,
   "id": "0e4665a7-f467-440f-986f-ce32a7783553",
   "metadata": {
    "tags": []
   },
   "outputs": [
    {
     "data": {
      "text/plain": [
       "array([3, 3, 3])"
      ]
     },
     "execution_count": 30,
     "metadata": {},
     "output_type": "execute_result"
    }
   ],
   "source": [
    "np.add(np.array([1, 1, 1]), np.array([2, 2, 2]))"
   ]
  },
  {
   "cell_type": "code",
   "execution_count": 31,
   "id": "806cf2fc-f32b-4d48-afd3-ddc2a571ac28",
   "metadata": {
    "tags": []
   },
   "outputs": [
    {
     "data": {
      "text/plain": [
       "6"
      ]
     },
     "execution_count": 31,
     "metadata": {},
     "output_type": "execute_result"
    }
   ],
   "source": [
    "np.array([1, 2, 3]).sum()"
   ]
  },
  {
   "cell_type": "markdown",
   "id": "0cd4b0a3-972d-4af9-9d27-88001cd3ae4b",
   "metadata": {
    "jp-MarkdownHeadingCollapsed": true,
    "tags": []
   },
   "source": [
    "#### Subtract"
   ]
  },
  {
   "cell_type": "code",
   "execution_count": 32,
   "id": "7de2af95-81ce-49fb-aed7-4bb12e55f8de",
   "metadata": {
    "tags": []
   },
   "outputs": [
    {
     "data": {
      "text/plain": [
       "array([-1, -1, -1])"
      ]
     },
     "execution_count": 32,
     "metadata": {},
     "output_type": "execute_result"
    }
   ],
   "source": [
    "np.array([1, 1, 1]) - np.array([2, 2, 2])"
   ]
  },
  {
   "cell_type": "code",
   "execution_count": 33,
   "id": "e68522ed-cecb-4522-b39c-fc7c1d04d99d",
   "metadata": {
    "tags": []
   },
   "outputs": [
    {
     "data": {
      "text/plain": [
       "array([-1, -1, -1])"
      ]
     },
     "execution_count": 33,
     "metadata": {},
     "output_type": "execute_result"
    }
   ],
   "source": [
    "np.subtract(np.array([1, 1, 1]), np.array([2, 2, 2]))"
   ]
  },
  {
   "cell_type": "markdown",
   "id": "70caad97-8193-4d5d-be79-4ef30f8a8492",
   "metadata": {
    "tags": []
   },
   "source": [
    "#### Stats"
   ]
  },
  {
   "cell_type": "code",
   "execution_count": 34,
   "id": "7f8f13c9-4d38-43d4-be21-ecd44471aaf8",
   "metadata": {
    "tags": []
   },
   "outputs": [
    {
     "data": {
      "text/plain": [
       "3"
      ]
     },
     "execution_count": 34,
     "metadata": {},
     "output_type": "execute_result"
    }
   ],
   "source": [
    "np.array([1, 2, 3]).max()"
   ]
  },
  {
   "cell_type": "code",
   "execution_count": 35,
   "id": "4d596252-e328-496c-be36-2750ef872635",
   "metadata": {
    "tags": []
   },
   "outputs": [
    {
     "data": {
      "text/plain": [
       "1"
      ]
     },
     "execution_count": 35,
     "metadata": {},
     "output_type": "execute_result"
    }
   ],
   "source": [
    "np.array([1, 2, 3]).min()"
   ]
  },
  {
   "cell_type": "code",
   "execution_count": 36,
   "id": "81476dcf-dd02-425e-84a7-1302d0a2f22c",
   "metadata": {
    "tags": []
   },
   "outputs": [
    {
     "data": {
      "text/plain": [
       "2.5"
      ]
     },
     "execution_count": 36,
     "metadata": {},
     "output_type": "execute_result"
    }
   ],
   "source": [
    "# (1 + 2 + 3 + 4) / 4 = 10 / 4 = 2.5\n",
    "np.array([1, 2, 3, 4]).mean()"
   ]
  },
  {
   "cell_type": "code",
   "execution_count": 37,
   "id": "2fd4959f-a3cf-4718-935e-81a497ce3ff8",
   "metadata": {
    "tags": []
   },
   "outputs": [
    {
     "data": {
      "text/plain": [
       "3.0"
      ]
     },
     "execution_count": 37,
     "metadata": {},
     "output_type": "execute_result"
    }
   ],
   "source": [
    "# median(1, 2, 8, 3, 4) \n",
    "# order 1, 2, 3, 4, 8\n",
    "# select the middle element 3\n",
    "np.median(np.array([1, 2, 8, 3, 4]))"
   ]
  },
  {
   "cell_type": "code",
   "execution_count": 38,
   "id": "71339dd5-1a06-4ee1-b208-5289c611eb48",
   "metadata": {
    "tags": []
   },
   "outputs": [
    {
     "data": {
      "text/plain": [
       "3.25"
      ]
     },
     "execution_count": 38,
     "metadata": {},
     "output_type": "execute_result"
    }
   ],
   "source": [
    "# median(1, 2, 8, 3, 4, 3.5) \n",
    "# order 1, 2, 3, 3.5, 4, 8\n",
    "# calculate the mean of the elements in the middle (3 + 3.5) / 2 = 3.25\n",
    "np.median(np.array([1, 2, 8, 3, 4, 3.5]))"
   ]
  },
  {
   "cell_type": "markdown",
   "id": "c4c63690-2782-4f3a-bad5-bd5bd57233d2",
   "metadata": {
    "jp-MarkdownHeadingCollapsed": true,
    "tags": []
   },
   "source": [
    "## Pandas"
   ]
  },
  {
   "cell_type": "markdown",
   "id": "0f183121-c7de-4216-84ef-50888cecbb9e",
   "metadata": {
    "jp-MarkdownHeadingCollapsed": true,
    "tags": []
   },
   "source": [
    "### Create DataFrame"
   ]
  },
  {
   "cell_type": "code",
   "execution_count": 39,
   "id": "bd56963e-9f5e-4484-b85b-51a7c66e78f7",
   "metadata": {
    "tags": []
   },
   "outputs": [
    {
     "data": {
      "text/html": [
       "<div>\n",
       "<style scoped>\n",
       "    .dataframe tbody tr th:only-of-type {\n",
       "        vertical-align: middle;\n",
       "    }\n",
       "\n",
       "    .dataframe tbody tr th {\n",
       "        vertical-align: top;\n",
       "    }\n",
       "\n",
       "    .dataframe thead th {\n",
       "        text-align: right;\n",
       "    }\n",
       "</style>\n",
       "<table border=\"1\" class=\"dataframe\">\n",
       "  <thead>\n",
       "    <tr style=\"text-align: right;\">\n",
       "      <th></th>\n",
       "      <th>name</th>\n",
       "      <th>age</th>\n",
       "      <th>height</th>\n",
       "      <th>has_linux</th>\n",
       "      <th>grade</th>\n",
       "    </tr>\n",
       "  </thead>\n",
       "  <tbody>\n",
       "    <tr>\n",
       "      <th>0</th>\n",
       "      <td>Ana</td>\n",
       "      <td>28</td>\n",
       "      <td>1.72</td>\n",
       "      <td>True</td>\n",
       "      <td>8</td>\n",
       "    </tr>\n",
       "    <tr>\n",
       "      <th>1</th>\n",
       "      <td>Bruno</td>\n",
       "      <td>33</td>\n",
       "      <td>1.69</td>\n",
       "      <td>False</td>\n",
       "      <td>7</td>\n",
       "    </tr>\n",
       "    <tr>\n",
       "      <th>2</th>\n",
       "      <td>César</td>\n",
       "      <td>34</td>\n",
       "      <td>1.77</td>\n",
       "      <td>False</td>\n",
       "      <td>8</td>\n",
       "    </tr>\n",
       "    <tr>\n",
       "      <th>3</th>\n",
       "      <td>Diego</td>\n",
       "      <td>23</td>\n",
       "      <td>1.79</td>\n",
       "      <td>True</td>\n",
       "      <td>10</td>\n",
       "    </tr>\n",
       "    <tr>\n",
       "      <th>4</th>\n",
       "      <td>Erika</td>\n",
       "      <td>25</td>\n",
       "      <td>1.69</td>\n",
       "      <td>True</td>\n",
       "      <td>7</td>\n",
       "    </tr>\n",
       "  </tbody>\n",
       "</table>\n",
       "</div>"
      ],
      "text/plain": [
       "    name  age  height  has_linux  grade\n",
       "0    Ana   28    1.72       True      8\n",
       "1  Bruno   33    1.69      False      7\n",
       "2  César   34    1.77      False      8\n",
       "3  Diego   23    1.79       True     10\n",
       "4  Erika   25    1.69       True      7"
      ]
     },
     "execution_count": 39,
     "metadata": {},
     "output_type": "execute_result"
    }
   ],
   "source": [
    "pd.DataFrame({\n",
    "    'name': ['Ana', 'Bruno', 'César', 'Diego', 'Erika'],\n",
    "\t'age': [28, 33, 34, 23, 25],\n",
    "\t'height': [1.72, 1.69, 1.77, 1.79, 1.69],\n",
    "\t'has_linux': [True, False, False, True, True],\n",
    "\t'grade': [8, 7, 8, 10, 7]\n",
    "})"
   ]
  },
  {
   "cell_type": "code",
   "execution_count": 67,
   "id": "fe29e5e8-6fde-4174-b394-a5d1a3f6140e",
   "metadata": {
    "tags": []
   },
   "outputs": [
    {
     "data": {
      "text/html": [
       "<div>\n",
       "<style scoped>\n",
       "    .dataframe tbody tr th:only-of-type {\n",
       "        vertical-align: middle;\n",
       "    }\n",
       "\n",
       "    .dataframe tbody tr th {\n",
       "        vertical-align: top;\n",
       "    }\n",
       "\n",
       "    .dataframe thead th {\n",
       "        text-align: right;\n",
       "    }\n",
       "</style>\n",
       "<table border=\"1\" class=\"dataframe\">\n",
       "  <thead>\n",
       "    <tr style=\"text-align: right;\">\n",
       "      <th></th>\n",
       "      <th>name</th>\n",
       "      <th>age</th>\n",
       "      <th>height</th>\n",
       "      <th>has_linux</th>\n",
       "      <th>grade</th>\n",
       "    </tr>\n",
       "  </thead>\n",
       "  <tbody>\n",
       "    <tr>\n",
       "      <th>0</th>\n",
       "      <td>Ana</td>\n",
       "      <td>28</td>\n",
       "      <td>1.72</td>\n",
       "      <td>True</td>\n",
       "      <td>8</td>\n",
       "    </tr>\n",
       "    <tr>\n",
       "      <th>1</th>\n",
       "      <td>Bruno</td>\n",
       "      <td>33</td>\n",
       "      <td>1.69</td>\n",
       "      <td>False</td>\n",
       "      <td>7</td>\n",
       "    </tr>\n",
       "    <tr>\n",
       "      <th>2</th>\n",
       "      <td>César</td>\n",
       "      <td>34</td>\n",
       "      <td>1.77</td>\n",
       "      <td>False</td>\n",
       "      <td>8</td>\n",
       "    </tr>\n",
       "    <tr>\n",
       "      <th>3</th>\n",
       "      <td>Diego</td>\n",
       "      <td>23</td>\n",
       "      <td>1.79</td>\n",
       "      <td>True</td>\n",
       "      <td>10</td>\n",
       "    </tr>\n",
       "    <tr>\n",
       "      <th>4</th>\n",
       "      <td>Erika</td>\n",
       "      <td>25</td>\n",
       "      <td>1.69</td>\n",
       "      <td>True</td>\n",
       "      <td>7</td>\n",
       "    </tr>\n",
       "  </tbody>\n",
       "</table>\n",
       "</div>"
      ],
      "text/plain": [
       "    name  age  height  has_linux  grade\n",
       "0    Ana   28    1.72       True      8\n",
       "1  Bruno   33    1.69      False      7\n",
       "2  César   34    1.77      False      8\n",
       "3  Diego   23    1.79       True     10\n",
       "4  Erika   25    1.69       True      7"
      ]
     },
     "execution_count": 67,
     "metadata": {},
     "output_type": "execute_result"
    }
   ],
   "source": [
    "pd.DataFrame(\n",
    "        [\n",
    "            ['Ana', 28, 1.72, True, 8],\n",
    "            ['Bruno', 33, 1.69, False, 7],\n",
    "            ['César', 34, 1.77, False, 8],\n",
    "            ['Diego', 23, 1.79, True, 10],\n",
    "            ['Erika', 25, 1.69, True, 7]\n",
    "        ],\n",
    "        columns=[\"name\", \"age\", \"height\", \"has_linux\", \"grade\"]\n",
    ")"
   ]
  },
  {
   "cell_type": "code",
   "execution_count": 43,
   "id": "07f8d2cd-9117-4da2-8605-3266d7bffde6",
   "metadata": {
    "tags": []
   },
   "outputs": [
    {
     "data": {
      "text/html": [
       "<div>\n",
       "<style scoped>\n",
       "    .dataframe tbody tr th:only-of-type {\n",
       "        vertical-align: middle;\n",
       "    }\n",
       "\n",
       "    .dataframe tbody tr th {\n",
       "        vertical-align: top;\n",
       "    }\n",
       "\n",
       "    .dataframe thead th {\n",
       "        text-align: right;\n",
       "    }\n",
       "</style>\n",
       "<table border=\"1\" class=\"dataframe\">\n",
       "  <thead>\n",
       "    <tr style=\"text-align: right;\">\n",
       "      <th></th>\n",
       "      <th>Nombre</th>\n",
       "      <th>Edad</th>\n",
       "      <th>Estatura</th>\n",
       "      <th>¿Beca?</th>\n",
       "      <th>Calificación</th>\n",
       "    </tr>\n",
       "  </thead>\n",
       "  <tbody>\n",
       "    <tr>\n",
       "      <th>0</th>\n",
       "      <td>Theodosia</td>\n",
       "      <td>33</td>\n",
       "      <td>182</td>\n",
       "      <td>VERDADERO</td>\n",
       "      <td>5</td>\n",
       "    </tr>\n",
       "    <tr>\n",
       "      <th>1</th>\n",
       "      <td>Genia</td>\n",
       "      <td>29</td>\n",
       "      <td>165</td>\n",
       "      <td>VERDADERO</td>\n",
       "      <td>7</td>\n",
       "    </tr>\n",
       "    <tr>\n",
       "      <th>2</th>\n",
       "      <td>Oliver</td>\n",
       "      <td>36</td>\n",
       "      <td>178</td>\n",
       "      <td>FALSO</td>\n",
       "      <td>8</td>\n",
       "    </tr>\n",
       "    <tr>\n",
       "      <th>3</th>\n",
       "      <td>Clint</td>\n",
       "      <td>19</td>\n",
       "      <td>176</td>\n",
       "      <td>FALSO</td>\n",
       "      <td>8</td>\n",
       "    </tr>\n",
       "    <tr>\n",
       "      <th>4</th>\n",
       "      <td>Nefen</td>\n",
       "      <td>22</td>\n",
       "      <td>176</td>\n",
       "      <td>FALSO</td>\n",
       "      <td>5</td>\n",
       "    </tr>\n",
       "  </tbody>\n",
       "</table>\n",
       "</div>"
      ],
      "text/plain": [
       "      Nombre  Edad  Estatura     ¿Beca?  Calificación\n",
       "0  Theodosia    33       182  VERDADERO             5\n",
       "1      Genia    29       165  VERDADERO             7\n",
       "2     Oliver    36       178      FALSO             8\n",
       "3      Clint    19       176      FALSO             8\n",
       "4      Nefen    22       176      FALSO             5"
      ]
     },
     "execution_count": 43,
     "metadata": {},
     "output_type": "execute_result"
    }
   ],
   "source": [
    "pd.read_csv(\"https://raw.githubusercontent.com/000paradox000/ucamp-ds-examples/main/sample_data/informacion/informacion.csv\").head(5)"
   ]
  },
  {
   "cell_type": "code",
   "execution_count": 44,
   "id": "bc09b8af-d63e-4f7c-82bb-5e0ef5869803",
   "metadata": {
    "tags": []
   },
   "outputs": [
    {
     "data": {
      "text/html": [
       "<div>\n",
       "<style scoped>\n",
       "    .dataframe tbody tr th:only-of-type {\n",
       "        vertical-align: middle;\n",
       "    }\n",
       "\n",
       "    .dataframe tbody tr th {\n",
       "        vertical-align: top;\n",
       "    }\n",
       "\n",
       "    .dataframe thead th {\n",
       "        text-align: right;\n",
       "    }\n",
       "</style>\n",
       "<table border=\"1\" class=\"dataframe\">\n",
       "  <thead>\n",
       "    <tr style=\"text-align: right;\">\n",
       "      <th></th>\n",
       "      <th>Nombre</th>\n",
       "      <th>Edad</th>\n",
       "      <th>Estatura</th>\n",
       "      <th>¿Beca?</th>\n",
       "      <th>Calificación</th>\n",
       "    </tr>\n",
       "  </thead>\n",
       "  <tbody>\n",
       "    <tr>\n",
       "      <th>0</th>\n",
       "      <td>Theodosia</td>\n",
       "      <td>33</td>\n",
       "      <td>182</td>\n",
       "      <td>True</td>\n",
       "      <td>5</td>\n",
       "    </tr>\n",
       "    <tr>\n",
       "      <th>1</th>\n",
       "      <td>Genia</td>\n",
       "      <td>29</td>\n",
       "      <td>165</td>\n",
       "      <td>True</td>\n",
       "      <td>7</td>\n",
       "    </tr>\n",
       "    <tr>\n",
       "      <th>2</th>\n",
       "      <td>Oliver</td>\n",
       "      <td>36</td>\n",
       "      <td>178</td>\n",
       "      <td>False</td>\n",
       "      <td>8</td>\n",
       "    </tr>\n",
       "    <tr>\n",
       "      <th>3</th>\n",
       "      <td>Clint</td>\n",
       "      <td>19</td>\n",
       "      <td>176</td>\n",
       "      <td>False</td>\n",
       "      <td>8</td>\n",
       "    </tr>\n",
       "    <tr>\n",
       "      <th>4</th>\n",
       "      <td>Nefen</td>\n",
       "      <td>22</td>\n",
       "      <td>176</td>\n",
       "      <td>False</td>\n",
       "      <td>5</td>\n",
       "    </tr>\n",
       "  </tbody>\n",
       "</table>\n",
       "</div>"
      ],
      "text/plain": [
       "      Nombre  Edad  Estatura  ¿Beca?  Calificación\n",
       "0  Theodosia    33       182    True             5\n",
       "1      Genia    29       165    True             7\n",
       "2     Oliver    36       178   False             8\n",
       "3      Clint    19       176   False             8\n",
       "4      Nefen    22       176   False             5"
      ]
     },
     "execution_count": 44,
     "metadata": {},
     "output_type": "execute_result"
    }
   ],
   "source": [
    "pd.read_excel(\"https://github.com/000paradox000/ucamp-ds-examples/raw/main/sample_data/informacion/informacion.xlsx\").head(5)"
   ]
  },
  {
   "cell_type": "markdown",
   "id": "2fe1662b-2040-4e9a-8371-e713eca20e6f",
   "metadata": {
    "jp-MarkdownHeadingCollapsed": true,
    "tags": []
   },
   "source": [
    "### DataFrame info"
   ]
  },
  {
   "cell_type": "code",
   "execution_count": 68,
   "id": "15d22a95-1e63-4a82-a117-80bc528d1429",
   "metadata": {
    "tags": []
   },
   "outputs": [
    {
     "data": {
      "text/plain": [
       "Index(['name', 'age', 'height', 'has_linux', 'grade'], dtype='object')"
      ]
     },
     "execution_count": 68,
     "metadata": {},
     "output_type": "execute_result"
    }
   ],
   "source": [
    "create_pandas_dataframe().columns"
   ]
  },
  {
   "cell_type": "code",
   "execution_count": 69,
   "id": "2c190ec8-e71a-4c1e-b9a6-125a5a84f1d8",
   "metadata": {
    "tags": []
   },
   "outputs": [
    {
     "data": {
      "text/plain": [
       "(5, 5)"
      ]
     },
     "execution_count": 69,
     "metadata": {},
     "output_type": "execute_result"
    }
   ],
   "source": [
    "create_pandas_dataframe().shape"
   ]
  },
  {
   "cell_type": "code",
   "execution_count": 70,
   "id": "bc62ed95-0041-4e6e-9d42-a820fdc237d6",
   "metadata": {
    "tags": []
   },
   "outputs": [
    {
     "data": {
      "text/plain": [
       "0    28\n",
       "1    33\n",
       "2    34\n",
       "3    23\n",
       "4    25\n",
       "Name: age, dtype: int64"
      ]
     },
     "execution_count": 70,
     "metadata": {},
     "output_type": "execute_result"
    }
   ],
   "source": [
    "create_pandas_dataframe().age"
   ]
  },
  {
   "cell_type": "code",
   "execution_count": 71,
   "id": "9a56d3c0-3711-4ac4-8f4d-ee511748fa13",
   "metadata": {
    "tags": []
   },
   "outputs": [
    {
     "data": {
      "text/plain": [
       "0    28\n",
       "1    33\n",
       "2    34\n",
       "3    23\n",
       "4    25\n",
       "Name: age, dtype: int64"
      ]
     },
     "execution_count": 71,
     "metadata": {},
     "output_type": "execute_result"
    }
   ],
   "source": [
    "create_pandas_dataframe()[\"age\"]"
   ]
  },
  {
   "cell_type": "code",
   "execution_count": 72,
   "id": "66385041-97ac-48c5-8e1d-edeabfab6cce",
   "metadata": {
    "tags": []
   },
   "outputs": [
    {
     "data": {
      "text/html": [
       "<div>\n",
       "<style scoped>\n",
       "    .dataframe tbody tr th:only-of-type {\n",
       "        vertical-align: middle;\n",
       "    }\n",
       "\n",
       "    .dataframe tbody tr th {\n",
       "        vertical-align: top;\n",
       "    }\n",
       "\n",
       "    .dataframe thead th {\n",
       "        text-align: right;\n",
       "    }\n",
       "</style>\n",
       "<table border=\"1\" class=\"dataframe\">\n",
       "  <thead>\n",
       "    <tr style=\"text-align: right;\">\n",
       "      <th></th>\n",
       "      <th>age</th>\n",
       "      <th>has_linux</th>\n",
       "    </tr>\n",
       "  </thead>\n",
       "  <tbody>\n",
       "    <tr>\n",
       "      <th>0</th>\n",
       "      <td>28</td>\n",
       "      <td>True</td>\n",
       "    </tr>\n",
       "    <tr>\n",
       "      <th>1</th>\n",
       "      <td>33</td>\n",
       "      <td>False</td>\n",
       "    </tr>\n",
       "    <tr>\n",
       "      <th>2</th>\n",
       "      <td>34</td>\n",
       "      <td>False</td>\n",
       "    </tr>\n",
       "    <tr>\n",
       "      <th>3</th>\n",
       "      <td>23</td>\n",
       "      <td>True</td>\n",
       "    </tr>\n",
       "    <tr>\n",
       "      <th>4</th>\n",
       "      <td>25</td>\n",
       "      <td>True</td>\n",
       "    </tr>\n",
       "  </tbody>\n",
       "</table>\n",
       "</div>"
      ],
      "text/plain": [
       "   age  has_linux\n",
       "0   28       True\n",
       "1   33      False\n",
       "2   34      False\n",
       "3   23       True\n",
       "4   25       True"
      ]
     },
     "execution_count": 72,
     "metadata": {},
     "output_type": "execute_result"
    }
   ],
   "source": [
    "create_pandas_dataframe()[[\"age\", \"has_linux\"]]"
   ]
  },
  {
   "cell_type": "code",
   "execution_count": 73,
   "id": "6396c409-8bd9-4d64-8950-ef328b63f700",
   "metadata": {
    "tags": []
   },
   "outputs": [
    {
     "data": {
      "text/plain": [
       "pandas.core.frame.DataFrame"
      ]
     },
     "execution_count": 73,
     "metadata": {},
     "output_type": "execute_result"
    }
   ],
   "source": [
    "type(create_pandas_dataframe()[[\"age\", \"has_linux\"]])"
   ]
  },
  {
   "cell_type": "code",
   "execution_count": 74,
   "id": "371d4420-dec6-4671-bb64-78794c3c3309",
   "metadata": {
    "tags": []
   },
   "outputs": [
    {
     "data": {
      "text/plain": [
       "pandas.core.frame.DataFrame"
      ]
     },
     "execution_count": 74,
     "metadata": {},
     "output_type": "execute_result"
    }
   ],
   "source": [
    "type(create_pandas_dataframe())"
   ]
  },
  {
   "cell_type": "code",
   "execution_count": 75,
   "id": "0ff10e9d-4382-4848-9c88-80004e81a6bc",
   "metadata": {
    "tags": []
   },
   "outputs": [
    {
     "data": {
      "text/plain": [
       "name          object\n",
       "age            int64\n",
       "height       float64\n",
       "has_linux       bool\n",
       "grade          int64\n",
       "dtype: object"
      ]
     },
     "execution_count": 75,
     "metadata": {},
     "output_type": "execute_result"
    }
   ],
   "source": [
    "create_pandas_dataframe().dtypes"
   ]
  },
  {
   "cell_type": "markdown",
   "id": "ab81c857-1c71-42c5-aa3c-56d3339fea96",
   "metadata": {
    "jp-MarkdownHeadingCollapsed": true,
    "tags": []
   },
   "source": [
    "### Slicing / Filtering"
   ]
  },
  {
   "cell_type": "code",
   "execution_count": 76,
   "id": "31c6654b-5f69-4a6c-bc0c-67de00951235",
   "metadata": {
    "tags": []
   },
   "outputs": [
    {
     "data": {
      "text/html": [
       "<div>\n",
       "<style scoped>\n",
       "    .dataframe tbody tr th:only-of-type {\n",
       "        vertical-align: middle;\n",
       "    }\n",
       "\n",
       "    .dataframe tbody tr th {\n",
       "        vertical-align: top;\n",
       "    }\n",
       "\n",
       "    .dataframe thead th {\n",
       "        text-align: right;\n",
       "    }\n",
       "</style>\n",
       "<table border=\"1\" class=\"dataframe\">\n",
       "  <thead>\n",
       "    <tr style=\"text-align: right;\">\n",
       "      <th></th>\n",
       "      <th>name</th>\n",
       "      <th>age</th>\n",
       "      <th>height</th>\n",
       "      <th>has_linux</th>\n",
       "      <th>grade</th>\n",
       "    </tr>\n",
       "  </thead>\n",
       "  <tbody>\n",
       "    <tr>\n",
       "      <th>1</th>\n",
       "      <td>Bruno</td>\n",
       "      <td>33</td>\n",
       "      <td>1.69</td>\n",
       "      <td>False</td>\n",
       "      <td>7</td>\n",
       "    </tr>\n",
       "    <tr>\n",
       "      <th>2</th>\n",
       "      <td>César</td>\n",
       "      <td>34</td>\n",
       "      <td>1.77</td>\n",
       "      <td>False</td>\n",
       "      <td>8</td>\n",
       "    </tr>\n",
       "  </tbody>\n",
       "</table>\n",
       "</div>"
      ],
      "text/plain": [
       "    name  age  height  has_linux  grade\n",
       "1  Bruno   33    1.69      False      7\n",
       "2  César   34    1.77      False      8"
      ]
     },
     "execution_count": 76,
     "metadata": {},
     "output_type": "execute_result"
    }
   ],
   "source": [
    "create_pandas_dataframe()[1:3]"
   ]
  },
  {
   "cell_type": "code",
   "execution_count": 77,
   "id": "932c6a70-764b-441f-9715-0ba45e2a4f64",
   "metadata": {
    "tags": []
   },
   "outputs": [
    {
     "data": {
      "text/plain": [
       "name         Bruno\n",
       "age             33\n",
       "height        1.69\n",
       "has_linux    False\n",
       "grade            7\n",
       "Name: 1, dtype: object"
      ]
     },
     "execution_count": 77,
     "metadata": {},
     "output_type": "execute_result"
    }
   ],
   "source": [
    "create_pandas_dataframe().loc[1]"
   ]
  },
  {
   "cell_type": "code",
   "execution_count": 79,
   "id": "62b755b1-89a4-4767-b18d-dec22eb2168f",
   "metadata": {
    "tags": []
   },
   "outputs": [
    {
     "data": {
      "text/html": [
       "<div>\n",
       "<style scoped>\n",
       "    .dataframe tbody tr th:only-of-type {\n",
       "        vertical-align: middle;\n",
       "    }\n",
       "\n",
       "    .dataframe tbody tr th {\n",
       "        vertical-align: top;\n",
       "    }\n",
       "\n",
       "    .dataframe thead th {\n",
       "        text-align: right;\n",
       "    }\n",
       "</style>\n",
       "<table border=\"1\" class=\"dataframe\">\n",
       "  <thead>\n",
       "    <tr style=\"text-align: right;\">\n",
       "      <th></th>\n",
       "      <th>name</th>\n",
       "      <th>age</th>\n",
       "      <th>height</th>\n",
       "      <th>has_linux</th>\n",
       "      <th>grade</th>\n",
       "    </tr>\n",
       "  </thead>\n",
       "  <tbody>\n",
       "    <tr>\n",
       "      <th>0</th>\n",
       "      <td>Ana</td>\n",
       "      <td>28</td>\n",
       "      <td>1.72</td>\n",
       "      <td>True</td>\n",
       "      <td>8</td>\n",
       "    </tr>\n",
       "    <tr>\n",
       "      <th>2</th>\n",
       "      <td>César</td>\n",
       "      <td>34</td>\n",
       "      <td>1.77</td>\n",
       "      <td>False</td>\n",
       "      <td>8</td>\n",
       "    </tr>\n",
       "    <tr>\n",
       "      <th>3</th>\n",
       "      <td>Diego</td>\n",
       "      <td>23</td>\n",
       "      <td>1.79</td>\n",
       "      <td>True</td>\n",
       "      <td>10</td>\n",
       "    </tr>\n",
       "  </tbody>\n",
       "</table>\n",
       "</div>"
      ],
      "text/plain": [
       "    name  age  height  has_linux  grade\n",
       "0    Ana   28    1.72       True      8\n",
       "2  César   34    1.77      False      8\n",
       "3  Diego   23    1.79       True     10"
      ]
     },
     "execution_count": 79,
     "metadata": {},
     "output_type": "execute_result"
    }
   ],
   "source": [
    "create_pandas_dataframe()[create_pandas_dataframe()['grade'] > 7]"
   ]
  },
  {
   "cell_type": "code",
   "execution_count": 81,
   "id": "bbfb9949-c321-470b-8079-d728b454bf5c",
   "metadata": {
    "tags": []
   },
   "outputs": [
    {
     "data": {
      "text/html": [
       "<div>\n",
       "<style scoped>\n",
       "    .dataframe tbody tr th:only-of-type {\n",
       "        vertical-align: middle;\n",
       "    }\n",
       "\n",
       "    .dataframe tbody tr th {\n",
       "        vertical-align: top;\n",
       "    }\n",
       "\n",
       "    .dataframe thead th {\n",
       "        text-align: right;\n",
       "    }\n",
       "</style>\n",
       "<table border=\"1\" class=\"dataframe\">\n",
       "  <thead>\n",
       "    <tr style=\"text-align: right;\">\n",
       "      <th></th>\n",
       "      <th>name</th>\n",
       "      <th>age</th>\n",
       "      <th>height</th>\n",
       "      <th>has_linux</th>\n",
       "      <th>grade</th>\n",
       "    </tr>\n",
       "  </thead>\n",
       "  <tbody>\n",
       "    <tr>\n",
       "      <th>0</th>\n",
       "      <td>Ana</td>\n",
       "      <td>28</td>\n",
       "      <td>1.72</td>\n",
       "      <td>True</td>\n",
       "      <td>8</td>\n",
       "    </tr>\n",
       "    <tr>\n",
       "      <th>3</th>\n",
       "      <td>Diego</td>\n",
       "      <td>23</td>\n",
       "      <td>1.79</td>\n",
       "      <td>True</td>\n",
       "      <td>10</td>\n",
       "    </tr>\n",
       "    <tr>\n",
       "      <th>4</th>\n",
       "      <td>Erika</td>\n",
       "      <td>25</td>\n",
       "      <td>1.69</td>\n",
       "      <td>True</td>\n",
       "      <td>7</td>\n",
       "    </tr>\n",
       "  </tbody>\n",
       "</table>\n",
       "</div>"
      ],
      "text/plain": [
       "    name  age  height  has_linux  grade\n",
       "0    Ana   28    1.72       True      8\n",
       "3  Diego   23    1.79       True     10\n",
       "4  Erika   25    1.69       True      7"
      ]
     },
     "execution_count": 81,
     "metadata": {},
     "output_type": "execute_result"
    }
   ],
   "source": [
    "create_pandas_dataframe()[create_pandas_dataframe()['has_linux'] == True]"
   ]
  },
  {
   "cell_type": "code",
   "execution_count": 82,
   "id": "0be2678a-9036-444e-a442-f9a1676cf14f",
   "metadata": {
    "tags": []
   },
   "outputs": [
    {
     "data": {
      "text/html": [
       "<div>\n",
       "<style scoped>\n",
       "    .dataframe tbody tr th:only-of-type {\n",
       "        vertical-align: middle;\n",
       "    }\n",
       "\n",
       "    .dataframe tbody tr th {\n",
       "        vertical-align: top;\n",
       "    }\n",
       "\n",
       "    .dataframe thead th {\n",
       "        text-align: right;\n",
       "    }\n",
       "</style>\n",
       "<table border=\"1\" class=\"dataframe\">\n",
       "  <thead>\n",
       "    <tr style=\"text-align: right;\">\n",
       "      <th></th>\n",
       "      <th>name</th>\n",
       "      <th>age</th>\n",
       "      <th>height</th>\n",
       "      <th>has_linux</th>\n",
       "      <th>grade</th>\n",
       "    </tr>\n",
       "  </thead>\n",
       "  <tbody>\n",
       "    <tr>\n",
       "      <th>0</th>\n",
       "      <td>Ana</td>\n",
       "      <td>28</td>\n",
       "      <td>1.72</td>\n",
       "      <td>True</td>\n",
       "      <td>8</td>\n",
       "    </tr>\n",
       "    <tr>\n",
       "      <th>3</th>\n",
       "      <td>Diego</td>\n",
       "      <td>23</td>\n",
       "      <td>1.79</td>\n",
       "      <td>True</td>\n",
       "      <td>10</td>\n",
       "    </tr>\n",
       "  </tbody>\n",
       "</table>\n",
       "</div>"
      ],
      "text/plain": [
       "    name  age  height  has_linux  grade\n",
       "0    Ana   28    1.72       True      8\n",
       "3  Diego   23    1.79       True     10"
      ]
     },
     "execution_count": 82,
     "metadata": {},
     "output_type": "execute_result"
    }
   ],
   "source": [
    "create_pandas_dataframe()[(create_pandas_dataframe()['grade'] > 7) & (create_pandas_dataframe()['has_linux'] == True)]"
   ]
  },
  {
   "cell_type": "markdown",
   "id": "55240021-a658-4d99-880e-cd74f4001f07",
   "metadata": {
    "jp-MarkdownHeadingCollapsed": true,
    "tags": []
   },
   "source": [
    "### Modify a DataFrame"
   ]
  },
  {
   "cell_type": "markdown",
   "id": "99c99fc9-f5b3-41f9-bf90-db2b0afd514c",
   "metadata": {
    "tags": []
   },
   "source": [
    "create_pandas_dataframe().sort_values(\"grade\")"
   ]
  },
  {
   "cell_type": "code",
   "execution_count": 84,
   "id": "e622837e-001f-492c-a80b-f537104ef543",
   "metadata": {
    "tags": []
   },
   "outputs": [
    {
     "data": {
      "text/html": [
       "<div>\n",
       "<style scoped>\n",
       "    .dataframe tbody tr th:only-of-type {\n",
       "        vertical-align: middle;\n",
       "    }\n",
       "\n",
       "    .dataframe tbody tr th {\n",
       "        vertical-align: top;\n",
       "    }\n",
       "\n",
       "    .dataframe thead th {\n",
       "        text-align: right;\n",
       "    }\n",
       "</style>\n",
       "<table border=\"1\" class=\"dataframe\">\n",
       "  <thead>\n",
       "    <tr style=\"text-align: right;\">\n",
       "      <th></th>\n",
       "      <th>name</th>\n",
       "      <th>age</th>\n",
       "      <th>height</th>\n",
       "      <th>has_linux</th>\n",
       "      <th>grade</th>\n",
       "    </tr>\n",
       "  </thead>\n",
       "  <tbody>\n",
       "    <tr>\n",
       "      <th>3</th>\n",
       "      <td>Diego</td>\n",
       "      <td>23</td>\n",
       "      <td>1.79</td>\n",
       "      <td>True</td>\n",
       "      <td>10</td>\n",
       "    </tr>\n",
       "    <tr>\n",
       "      <th>0</th>\n",
       "      <td>Ana</td>\n",
       "      <td>28</td>\n",
       "      <td>1.72</td>\n",
       "      <td>True</td>\n",
       "      <td>8</td>\n",
       "    </tr>\n",
       "    <tr>\n",
       "      <th>2</th>\n",
       "      <td>César</td>\n",
       "      <td>34</td>\n",
       "      <td>1.77</td>\n",
       "      <td>False</td>\n",
       "      <td>8</td>\n",
       "    </tr>\n",
       "    <tr>\n",
       "      <th>1</th>\n",
       "      <td>Bruno</td>\n",
       "      <td>33</td>\n",
       "      <td>1.69</td>\n",
       "      <td>False</td>\n",
       "      <td>7</td>\n",
       "    </tr>\n",
       "    <tr>\n",
       "      <th>4</th>\n",
       "      <td>Erika</td>\n",
       "      <td>25</td>\n",
       "      <td>1.69</td>\n",
       "      <td>True</td>\n",
       "      <td>7</td>\n",
       "    </tr>\n",
       "  </tbody>\n",
       "</table>\n",
       "</div>"
      ],
      "text/plain": [
       "    name  age  height  has_linux  grade\n",
       "3  Diego   23    1.79       True     10\n",
       "0    Ana   28    1.72       True      8\n",
       "2  César   34    1.77      False      8\n",
       "1  Bruno   33    1.69      False      7\n",
       "4  Erika   25    1.69       True      7"
      ]
     },
     "execution_count": 84,
     "metadata": {},
     "output_type": "execute_result"
    }
   ],
   "source": [
    "create_pandas_dataframe().sort_values(\"grade\", ascending=False)"
   ]
  },
  {
   "cell_type": "code",
   "execution_count": 85,
   "id": "29d362c8-b747-4e7f-9ea4-5a6a37a454f1",
   "metadata": {
    "tags": []
   },
   "outputs": [
    {
     "data": {
      "text/html": [
       "<div>\n",
       "<style scoped>\n",
       "    .dataframe tbody tr th:only-of-type {\n",
       "        vertical-align: middle;\n",
       "    }\n",
       "\n",
       "    .dataframe tbody tr th {\n",
       "        vertical-align: top;\n",
       "    }\n",
       "\n",
       "    .dataframe thead th {\n",
       "        text-align: right;\n",
       "    }\n",
       "</style>\n",
       "<table border=\"1\" class=\"dataframe\">\n",
       "  <thead>\n",
       "    <tr style=\"text-align: right;\">\n",
       "      <th></th>\n",
       "      <th>first_name</th>\n",
       "      <th>age</th>\n",
       "      <th>height</th>\n",
       "      <th>has_linux</th>\n",
       "      <th>grade</th>\n",
       "    </tr>\n",
       "  </thead>\n",
       "  <tbody>\n",
       "    <tr>\n",
       "      <th>0</th>\n",
       "      <td>Ana</td>\n",
       "      <td>28</td>\n",
       "      <td>1.72</td>\n",
       "      <td>True</td>\n",
       "      <td>8</td>\n",
       "    </tr>\n",
       "    <tr>\n",
       "      <th>1</th>\n",
       "      <td>Bruno</td>\n",
       "      <td>33</td>\n",
       "      <td>1.69</td>\n",
       "      <td>False</td>\n",
       "      <td>7</td>\n",
       "    </tr>\n",
       "    <tr>\n",
       "      <th>2</th>\n",
       "      <td>César</td>\n",
       "      <td>34</td>\n",
       "      <td>1.77</td>\n",
       "      <td>False</td>\n",
       "      <td>8</td>\n",
       "    </tr>\n",
       "    <tr>\n",
       "      <th>3</th>\n",
       "      <td>Diego</td>\n",
       "      <td>23</td>\n",
       "      <td>1.79</td>\n",
       "      <td>True</td>\n",
       "      <td>10</td>\n",
       "    </tr>\n",
       "    <tr>\n",
       "      <th>4</th>\n",
       "      <td>Erika</td>\n",
       "      <td>25</td>\n",
       "      <td>1.69</td>\n",
       "      <td>True</td>\n",
       "      <td>7</td>\n",
       "    </tr>\n",
       "  </tbody>\n",
       "</table>\n",
       "</div>"
      ],
      "text/plain": [
       "  first_name  age  height  has_linux  grade\n",
       "0        Ana   28    1.72       True      8\n",
       "1      Bruno   33    1.69      False      7\n",
       "2      César   34    1.77      False      8\n",
       "3      Diego   23    1.79       True     10\n",
       "4      Erika   25    1.69       True      7"
      ]
     },
     "execution_count": 85,
     "metadata": {},
     "output_type": "execute_result"
    }
   ],
   "source": [
    "create_pandas_dataframe().rename(columns={\n",
    "    \"name\": \"first_name\"\n",
    "})"
   ]
  },
  {
   "cell_type": "code",
   "execution_count": 86,
   "id": "a02b1e9e-15fb-4a99-8cef-0dcca5c0c999",
   "metadata": {
    "tags": []
   },
   "outputs": [
    {
     "data": {
      "text/html": [
       "<div>\n",
       "<style scoped>\n",
       "    .dataframe tbody tr th:only-of-type {\n",
       "        vertical-align: middle;\n",
       "    }\n",
       "\n",
       "    .dataframe tbody tr th {\n",
       "        vertical-align: top;\n",
       "    }\n",
       "\n",
       "    .dataframe thead th {\n",
       "        text-align: right;\n",
       "    }\n",
       "</style>\n",
       "<table border=\"1\" class=\"dataframe\">\n",
       "  <thead>\n",
       "    <tr style=\"text-align: right;\">\n",
       "      <th></th>\n",
       "      <th>name</th>\n",
       "      <th>age</th>\n",
       "      <th>has_linux</th>\n",
       "      <th>grade</th>\n",
       "    </tr>\n",
       "  </thead>\n",
       "  <tbody>\n",
       "    <tr>\n",
       "      <th>0</th>\n",
       "      <td>Ana</td>\n",
       "      <td>28</td>\n",
       "      <td>True</td>\n",
       "      <td>8</td>\n",
       "    </tr>\n",
       "    <tr>\n",
       "      <th>1</th>\n",
       "      <td>Bruno</td>\n",
       "      <td>33</td>\n",
       "      <td>False</td>\n",
       "      <td>7</td>\n",
       "    </tr>\n",
       "    <tr>\n",
       "      <th>2</th>\n",
       "      <td>César</td>\n",
       "      <td>34</td>\n",
       "      <td>False</td>\n",
       "      <td>8</td>\n",
       "    </tr>\n",
       "    <tr>\n",
       "      <th>3</th>\n",
       "      <td>Diego</td>\n",
       "      <td>23</td>\n",
       "      <td>True</td>\n",
       "      <td>10</td>\n",
       "    </tr>\n",
       "    <tr>\n",
       "      <th>4</th>\n",
       "      <td>Erika</td>\n",
       "      <td>25</td>\n",
       "      <td>True</td>\n",
       "      <td>7</td>\n",
       "    </tr>\n",
       "  </tbody>\n",
       "</table>\n",
       "</div>"
      ],
      "text/plain": [
       "    name  age  has_linux  grade\n",
       "0    Ana   28       True      8\n",
       "1  Bruno   33      False      7\n",
       "2  César   34      False      8\n",
       "3  Diego   23       True     10\n",
       "4  Erika   25       True      7"
      ]
     },
     "execution_count": 86,
     "metadata": {},
     "output_type": "execute_result"
    }
   ],
   "source": [
    "create_pandas_dataframe().drop(columns=[\"height\"])"
   ]
  },
  {
   "cell_type": "markdown",
   "id": "ed666e22-aa73-4b65-968f-c6095f7a6d90",
   "metadata": {
    "jp-MarkdownHeadingCollapsed": true,
    "tags": []
   },
   "source": [
    "### Group by"
   ]
  },
  {
   "cell_type": "code",
   "execution_count": 89,
   "id": "73408f5f-03ec-412c-a4c1-f1fac2e3d8bd",
   "metadata": {
    "tags": []
   },
   "outputs": [
    {
     "data": {
      "text/plain": [
       "age\n",
       "23    1\n",
       "25    1\n",
       "28    1\n",
       "33    1\n",
       "34    1\n",
       "Name: grade, dtype: int64"
      ]
     },
     "execution_count": 89,
     "metadata": {},
     "output_type": "execute_result"
    }
   ],
   "source": [
    "create_pandas_dataframe().groupby(by=\"age\")[\"grade\"].count()"
   ]
  },
  {
   "cell_type": "code",
   "execution_count": 90,
   "id": "32c46353-c41a-4464-a431-287202512d88",
   "metadata": {
    "tags": []
   },
   "outputs": [
    {
     "data": {
      "text/plain": [
       "age\n",
       "23    10\n",
       "25     7\n",
       "28     8\n",
       "33     7\n",
       "34     8\n",
       "Name: grade, dtype: int64"
      ]
     },
     "execution_count": 90,
     "metadata": {},
     "output_type": "execute_result"
    }
   ],
   "source": [
    "create_pandas_dataframe().groupby(by=\"age\")[\"grade\"].max()"
   ]
  },
  {
   "cell_type": "code",
   "execution_count": 91,
   "id": "4260a061-001e-4fef-a41b-235c917d3305",
   "metadata": {
    "tags": []
   },
   "outputs": [
    {
     "data": {
      "text/plain": [
       "age\n",
       "23    10.0\n",
       "25     7.0\n",
       "28     8.0\n",
       "33     7.0\n",
       "34     8.0\n",
       "Name: grade, dtype: float64"
      ]
     },
     "execution_count": 91,
     "metadata": {},
     "output_type": "execute_result"
    }
   ],
   "source": [
    "create_pandas_dataframe().groupby(by=\"age\")[\"grade\"].mean()"
   ]
  }
 ],
 "metadata": {
  "kernelspec": {
   "display_name": "Python 3 (ipykernel)",
   "language": "python",
   "name": "python3"
  },
  "language_info": {
   "codemirror_mode": {
    "name": "ipython",
    "version": 3
   },
   "file_extension": ".py",
   "mimetype": "text/x-python",
   "name": "python",
   "nbconvert_exporter": "python",
   "pygments_lexer": "ipython3",
   "version": "3.10.9"
  }
 },
 "nbformat": 4,
 "nbformat_minor": 5
}
