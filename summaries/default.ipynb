{
 "cells": [
  {
   "cell_type": "markdown",
   "id": "b99729cd",
   "metadata": {
    "tags": []
   },
   "source": [
    "# Summaries"
   ]
  },
  {
   "cell_type": "markdown",
   "id": "a57dcc90-b88d-4b1d-9ab6-290b398d2563",
   "metadata": {
    "tags": []
   },
   "source": [
    "## Libraries"
   ]
  },
  {
   "cell_type": "code",
   "execution_count": 4,
   "id": "50865e8b-1658-4fb6-862a-3f9563cbf1a8",
   "metadata": {
    "tags": []
   },
   "outputs": [],
   "source": [
    "import numpy as np\n",
    "import pandas as pd"
   ]
  },
  {
   "cell_type": "markdown",
   "id": "03d7ebc2",
   "metadata": {
    "jp-MarkdownHeadingCollapsed": true,
    "tags": []
   },
   "source": [
    "## Python"
   ]
  },
  {
   "cell_type": "markdown",
   "id": "7a282458",
   "metadata": {
    "jp-MarkdownHeadingCollapsed": true,
    "tags": []
   },
   "source": [
    "### $2^{3^2}$"
   ]
  },
  {
   "cell_type": "code",
   "execution_count": 1,
   "id": "772ff81d",
   "metadata": {},
   "outputs": [
    {
     "data": {
      "text/plain": [
       "512"
      ]
     },
     "execution_count": 1,
     "metadata": {},
     "output_type": "execute_result"
    }
   ],
   "source": [
    "2**3**2"
   ]
  },
  {
   "cell_type": "markdown",
   "id": "7b99d6d4",
   "metadata": {
    "jp-MarkdownHeadingCollapsed": true,
    "tags": []
   },
   "source": [
    "### $\\sqrt[2]{25}$"
   ]
  },
  {
   "cell_type": "code",
   "execution_count": 2,
   "id": "958f698b",
   "metadata": {},
   "outputs": [
    {
     "name": "stdout",
     "output_type": "stream",
     "text": [
      "5.0\n"
     ]
    }
   ],
   "source": [
    "print(25 ** (1/2))"
   ]
  },
  {
   "cell_type": "markdown",
   "id": "4dd333ce",
   "metadata": {
    "jp-MarkdownHeadingCollapsed": true,
    "tags": []
   },
   "source": [
    "### $\\sqrt[3]{64}$"
   ]
  },
  {
   "cell_type": "code",
   "execution_count": 3,
   "id": "862dd698",
   "metadata": {},
   "outputs": [
    {
     "name": "stdout",
     "output_type": "stream",
     "text": [
      "3.9999999999999996\n"
     ]
    }
   ],
   "source": [
    "print(64 ** (1/3))"
   ]
  },
  {
   "cell_type": "markdown",
   "id": "5c4cd70b-3bf4-4dee-b77a-c5b5848ef08b",
   "metadata": {
    "jp-MarkdownHeadingCollapsed": true,
    "tags": []
   },
   "source": [
    "### Quotient and residue"
   ]
  },
  {
   "cell_type": "code",
   "execution_count": 1,
   "id": "2e273058-aa6f-4a15-bbe4-081cd09eec0c",
   "metadata": {
    "tags": []
   },
   "outputs": [
    {
     "data": {
      "text/plain": [
       "3"
      ]
     },
     "execution_count": 1,
     "metadata": {},
     "output_type": "execute_result"
    }
   ],
   "source": [
    "22 // 6"
   ]
  },
  {
   "cell_type": "code",
   "execution_count": 2,
   "id": "f7e45052-a226-4d83-81b3-c7f7c4d90a62",
   "metadata": {
    "tags": []
   },
   "outputs": [
    {
     "data": {
      "text/plain": [
       "4"
      ]
     },
     "execution_count": 2,
     "metadata": {},
     "output_type": "execute_result"
    }
   ],
   "source": [
    "22 % 6"
   ]
  },
  {
   "cell_type": "markdown",
   "id": "6d725624-12be-4f26-8eec-e9a1855e4e37",
   "metadata": {
    "jp-MarkdownHeadingCollapsed": true,
    "tags": []
   },
   "source": [
    "### Tuple as dict key"
   ]
  },
  {
   "cell_type": "code",
   "execution_count": 3,
   "id": "410eb0cc-5527-4865-a0e7-8b8e07e047bc",
   "metadata": {
    "tags": []
   },
   "outputs": [
    {
     "data": {
      "text/plain": [
       "{(1, 2, 3): ['gold', 'silver coins'], (2, 4, 5.6): 'ship'}"
      ]
     },
     "execution_count": 3,
     "metadata": {},
     "output_type": "execute_result"
    }
   ],
   "source": [
    "tuple_as_dict_key = {\n",
    "    (1, 2, 3): ['gold', 'silver coins'],\n",
    "    (2, 4, 5.6): 'ship'\n",
    "}\n",
    "\n",
    "tuple_as_dict_key"
   ]
  },
  {
   "cell_type": "markdown",
   "id": "1918cbb3-4649-4ea1-b2dc-c90c27167b0b",
   "metadata": {
    "jp-MarkdownHeadingCollapsed": true,
    "tags": []
   },
   "source": [
    "## Numpy"
   ]
  },
  {
   "cell_type": "markdown",
   "id": "38086ae1-d20c-4d35-bc19-d0472fd6b82f",
   "metadata": {
    "jp-MarkdownHeadingCollapsed": true,
    "tags": []
   },
   "source": [
    "### Create arrays"
   ]
  },
  {
   "cell_type": "code",
   "execution_count": 5,
   "id": "041087ba-b159-4f47-b46a-e08b6608c6af",
   "metadata": {
    "tags": []
   },
   "outputs": [
    {
     "data": {
      "text/plain": [
       "array([1, 4, 5])"
      ]
     },
     "execution_count": 5,
     "metadata": {},
     "output_type": "execute_result"
    }
   ],
   "source": [
    "np.array([1, 4, 5])"
   ]
  },
  {
   "cell_type": "code",
   "execution_count": 7,
   "id": "6e301fa0-9bcb-40eb-8cb9-f323e756c53c",
   "metadata": {
    "tags": []
   },
   "outputs": [
    {
     "data": {
      "text/plain": [
       "array([[1, 4, 5],\n",
       "       [2, 5, 7]])"
      ]
     },
     "execution_count": 7,
     "metadata": {},
     "output_type": "execute_result"
    }
   ],
   "source": [
    "np.array([[1, 4, 5], [2, 5, 7]])"
   ]
  },
  {
   "cell_type": "code",
   "execution_count": 8,
   "id": "f3c7db5e-372a-48a3-aa41-d0435a8327b8",
   "metadata": {
    "tags": []
   },
   "outputs": [
    {
     "data": {
      "text/plain": [
       "array([[1, 4, 5],\n",
       "       [2, 5, 7]])"
      ]
     },
     "execution_count": 8,
     "metadata": {},
     "output_type": "execute_result"
    }
   ],
   "source": [
    "np.array([(1, 4, 5), (2, 5, 7)])"
   ]
  },
  {
   "cell_type": "code",
   "execution_count": 9,
   "id": "9759dd28-09a2-4670-a81c-bd50b614397b",
   "metadata": {
    "tags": []
   },
   "outputs": [
    {
     "data": {
      "text/plain": [
       "array([0., 0., 0., 0.])"
      ]
     },
     "execution_count": 9,
     "metadata": {},
     "output_type": "execute_result"
    }
   ],
   "source": [
    "np.zeros(4)"
   ]
  },
  {
   "cell_type": "code",
   "execution_count": 10,
   "id": "4864cdb8-ec5d-4edf-bb11-f2ed0c0f5b9c",
   "metadata": {
    "tags": []
   },
   "outputs": [
    {
     "data": {
      "text/plain": [
       "array([[0., 0., 0., 0., 0.],\n",
       "       [0., 0., 0., 0., 0.]])"
      ]
     },
     "execution_count": 10,
     "metadata": {},
     "output_type": "execute_result"
    }
   ],
   "source": [
    "np.zeros((2, 5))"
   ]
  },
  {
   "cell_type": "code",
   "execution_count": 11,
   "id": "bf6f858f-45a3-405e-9942-41ebcedd7718",
   "metadata": {
    "tags": []
   },
   "outputs": [
    {
     "data": {
      "text/plain": [
       "array([1., 1., 1., 1.])"
      ]
     },
     "execution_count": 11,
     "metadata": {},
     "output_type": "execute_result"
    }
   ],
   "source": [
    "np.ones(4)"
   ]
  },
  {
   "cell_type": "code",
   "execution_count": 12,
   "id": "58ffd25c-4422-4959-afea-a66c95939413",
   "metadata": {
    "tags": []
   },
   "outputs": [
    {
     "data": {
      "text/plain": [
       "array([[34, 34],\n",
       "       [34, 34],\n",
       "       [34, 34]])"
      ]
     },
     "execution_count": 12,
     "metadata": {},
     "output_type": "execute_result"
    }
   ],
   "source": [
    "np.full((3, 2), 34)"
   ]
  },
  {
   "cell_type": "code",
   "execution_count": 18,
   "id": "bfc5d3f9-7994-4102-8801-6d3bf1a5039b",
   "metadata": {
    "tags": []
   },
   "outputs": [
    {
     "data": {
      "text/plain": [
       "array([10, 12, 14, 16, 18])"
      ]
     },
     "execution_count": 18,
     "metadata": {},
     "output_type": "execute_result"
    }
   ],
   "source": [
    "# start, end - 1, step\n",
    "np.arange(10, 20, 2)"
   ]
  },
  {
   "cell_type": "code",
   "execution_count": 21,
   "id": "82df605c-f82e-45dc-b553-5cc636fc64b9",
   "metadata": {
    "tags": []
   },
   "outputs": [
    {
     "data": {
      "text/plain": [
       "array([ 1.  ,  3.25,  5.5 ,  7.75, 10.  ])"
      ]
     },
     "execution_count": 21,
     "metadata": {},
     "output_type": "execute_result"
    }
   ],
   "source": [
    "# start, end, number of parts\n",
    "np.linspace(1, 10, 5)"
   ]
  },
  {
   "cell_type": "markdown",
   "id": "edcda4d0-8e5e-45dc-a1c6-1d6f48ac22a3",
   "metadata": {
    "jp-MarkdownHeadingCollapsed": true,
    "tags": []
   },
   "source": [
    "### Arrays info"
   ]
  },
  {
   "cell_type": "markdown",
   "id": "f2046a60-034f-4b18-93e1-fb898611c592",
   "metadata": {
    "jp-MarkdownHeadingCollapsed": true,
    "tags": []
   },
   "source": [
    "#### Shape"
   ]
  },
  {
   "cell_type": "code",
   "execution_count": 23,
   "id": "f45e82fd-dad6-44bf-8c84-c9d2f5206cc5",
   "metadata": {
    "tags": []
   },
   "outputs": [
    {
     "data": {
      "text/plain": [
       "(3,)"
      ]
     },
     "execution_count": 23,
     "metadata": {},
     "output_type": "execute_result"
    }
   ],
   "source": [
    "np.array([1, 2, 3]).shape"
   ]
  },
  {
   "cell_type": "code",
   "execution_count": 34,
   "id": "e5996159-5644-4854-9ed8-e4b002856c42",
   "metadata": {
    "tags": []
   },
   "outputs": [
    {
     "data": {
      "text/plain": [
       "(2, 3)"
      ]
     },
     "execution_count": 34,
     "metadata": {},
     "output_type": "execute_result"
    }
   ],
   "source": [
    "np.array([\n",
    "    [1, 2, 3], \n",
    "    [4, 5, 6]\n",
    "]).shape"
   ]
  },
  {
   "cell_type": "code",
   "execution_count": 35,
   "id": "2597fc77-bef3-42d9-bdbc-59b2c7b57011",
   "metadata": {
    "tags": []
   },
   "outputs": [
    {
     "data": {
      "text/plain": [
       "(2, 2, 2)"
      ]
     },
     "execution_count": 35,
     "metadata": {},
     "output_type": "execute_result"
    }
   ],
   "source": [
    "np.array([\n",
    "    [[1, 2], [3, 4]], \n",
    "    [[5, 6], [7, 8]]\n",
    "]).shape"
   ]
  },
  {
   "cell_type": "markdown",
   "id": "83b9e9cb-037a-467c-8931-ee5821ec9b63",
   "metadata": {
    "jp-MarkdownHeadingCollapsed": true,
    "tags": []
   },
   "source": [
    "#### Len"
   ]
  },
  {
   "cell_type": "code",
   "execution_count": 25,
   "id": "791740ff-d903-4840-86d5-e9197a9b7a65",
   "metadata": {
    "tags": []
   },
   "outputs": [
    {
     "data": {
      "text/plain": [
       "3"
      ]
     },
     "execution_count": 25,
     "metadata": {},
     "output_type": "execute_result"
    }
   ],
   "source": [
    "len(np.array([1, 2, 3]))"
   ]
  },
  {
   "cell_type": "code",
   "execution_count": 36,
   "id": "5e663b5d-b46c-4398-b715-bfadb6c61914",
   "metadata": {
    "tags": []
   },
   "outputs": [
    {
     "data": {
      "text/plain": [
       "2"
      ]
     },
     "execution_count": 36,
     "metadata": {},
     "output_type": "execute_result"
    }
   ],
   "source": [
    "len(np.array([\n",
    "    [1, 2, 3], \n",
    "    [4, 5, 6]\n",
    "]))"
   ]
  },
  {
   "cell_type": "code",
   "execution_count": 37,
   "id": "6f106ee3-fe1a-47ee-9161-dd0b99a4f5ca",
   "metadata": {
    "tags": []
   },
   "outputs": [
    {
     "data": {
      "text/plain": [
       "2"
      ]
     },
     "execution_count": 37,
     "metadata": {},
     "output_type": "execute_result"
    }
   ],
   "source": [
    "len(np.array([\n",
    "    [[1, 2], [3, 4]], \n",
    "    [[5, 6], [7, 8]]\n",
    "]))"
   ]
  },
  {
   "cell_type": "markdown",
   "id": "8d7bf076-9144-4d41-8605-0375162fcb86",
   "metadata": {
    "jp-MarkdownHeadingCollapsed": true,
    "tags": []
   },
   "source": [
    "#### Ndim"
   ]
  },
  {
   "cell_type": "code",
   "execution_count": 27,
   "id": "fe4d6755-5423-45de-9705-4cbd699071cd",
   "metadata": {
    "tags": []
   },
   "outputs": [
    {
     "data": {
      "text/plain": [
       "1"
      ]
     },
     "execution_count": 27,
     "metadata": {},
     "output_type": "execute_result"
    }
   ],
   "source": [
    "np.array([1, 2, 3]).ndim"
   ]
  },
  {
   "cell_type": "code",
   "execution_count": 38,
   "id": "4efbf735-114a-4f79-a6f8-8a98d39cccb6",
   "metadata": {
    "tags": []
   },
   "outputs": [
    {
     "data": {
      "text/plain": [
       "2"
      ]
     },
     "execution_count": 38,
     "metadata": {},
     "output_type": "execute_result"
    }
   ],
   "source": [
    "np.array([\n",
    "    [1, 2, 3], \n",
    "    [4, 5, 6]\n",
    "]).ndim"
   ]
  },
  {
   "cell_type": "code",
   "execution_count": 39,
   "id": "1bc16d07-de2e-4576-8c0a-59dbc464dc97",
   "metadata": {
    "tags": []
   },
   "outputs": [
    {
     "data": {
      "text/plain": [
       "3"
      ]
     },
     "execution_count": 39,
     "metadata": {},
     "output_type": "execute_result"
    }
   ],
   "source": [
    "np.array([\n",
    "    [[1, 2], [3, 4]], \n",
    "    [[5, 6], [7, 8]]\n",
    "]).ndim"
   ]
  },
  {
   "cell_type": "markdown",
   "id": "4866f78a-cc42-4d29-9861-dfada59e7ec9",
   "metadata": {
    "tags": []
   },
   "source": [
    "#### Size"
   ]
  },
  {
   "cell_type": "code",
   "execution_count": 41,
   "id": "18ac919a-a414-41b0-acd1-bb1adee930b7",
   "metadata": {
    "tags": []
   },
   "outputs": [
    {
     "data": {
      "text/plain": [
       "3"
      ]
     },
     "execution_count": 41,
     "metadata": {},
     "output_type": "execute_result"
    }
   ],
   "source": [
    "np.array([1, 2, 3]).size"
   ]
  },
  {
   "cell_type": "code",
   "execution_count": 42,
   "id": "030f32af-6cc0-45e7-a61c-65259cace47c",
   "metadata": {
    "tags": []
   },
   "outputs": [
    {
     "data": {
      "text/plain": [
       "6"
      ]
     },
     "execution_count": 42,
     "metadata": {},
     "output_type": "execute_result"
    }
   ],
   "source": [
    "np.array([\n",
    "    [1, 2, 3], \n",
    "    [4, 5, 6]\n",
    "]).size"
   ]
  },
  {
   "cell_type": "code",
   "execution_count": 43,
   "id": "61050a68-099b-489c-9812-296b2ca61bb7",
   "metadata": {
    "tags": []
   },
   "outputs": [
    {
     "data": {
      "text/plain": [
       "8"
      ]
     },
     "execution_count": 43,
     "metadata": {},
     "output_type": "execute_result"
    }
   ],
   "source": [
    "np.array([\n",
    "    [[1, 2], [3, 4]], \n",
    "    [[5, 6], [7, 8]]\n",
    "]).size"
   ]
  },
  {
   "cell_type": "markdown",
   "id": "dea9baa8-a796-4e99-a358-07a5e5c1f1af",
   "metadata": {
    "tags": []
   },
   "source": [
    "### Operations"
   ]
  },
  {
   "cell_type": "markdown",
   "id": "5cde066a-ddb2-41e8-bc8c-fa6249091a91",
   "metadata": {
    "jp-MarkdownHeadingCollapsed": true,
    "tags": []
   },
   "source": [
    "#### Sum"
   ]
  },
  {
   "cell_type": "code",
   "execution_count": 44,
   "id": "abf611c3-dee3-40de-bbac-51440b98dc7d",
   "metadata": {
    "tags": []
   },
   "outputs": [
    {
     "data": {
      "text/plain": [
       "array([3, 3, 3])"
      ]
     },
     "execution_count": 44,
     "metadata": {},
     "output_type": "execute_result"
    }
   ],
   "source": [
    "np.array([1, 1, 1]) + np.array([2, 2, 2])"
   ]
  },
  {
   "cell_type": "code",
   "execution_count": 46,
   "id": "0e4665a7-f467-440f-986f-ce32a7783553",
   "metadata": {
    "tags": []
   },
   "outputs": [
    {
     "data": {
      "text/plain": [
       "array([3, 3, 3])"
      ]
     },
     "execution_count": 46,
     "metadata": {},
     "output_type": "execute_result"
    }
   ],
   "source": [
    "np.add(np.array([1, 1, 1]), np.array([2, 2, 2]))"
   ]
  },
  {
   "cell_type": "code",
   "execution_count": 50,
   "id": "806cf2fc-f32b-4d48-afd3-ddc2a571ac28",
   "metadata": {
    "tags": []
   },
   "outputs": [
    {
     "data": {
      "text/plain": [
       "6"
      ]
     },
     "execution_count": 50,
     "metadata": {},
     "output_type": "execute_result"
    }
   ],
   "source": [
    "np.array([1, 2, 3]).sum()"
   ]
  },
  {
   "cell_type": "markdown",
   "id": "0cd4b0a3-972d-4af9-9d27-88001cd3ae4b",
   "metadata": {
    "jp-MarkdownHeadingCollapsed": true,
    "tags": []
   },
   "source": [
    "#### Subtract"
   ]
  },
  {
   "cell_type": "code",
   "execution_count": 48,
   "id": "7de2af95-81ce-49fb-aed7-4bb12e55f8de",
   "metadata": {
    "tags": []
   },
   "outputs": [
    {
     "data": {
      "text/plain": [
       "array([-1, -1, -1])"
      ]
     },
     "execution_count": 48,
     "metadata": {},
     "output_type": "execute_result"
    }
   ],
   "source": [
    "np.array([1, 1, 1]) - np.array([2, 2, 2])"
   ]
  },
  {
   "cell_type": "code",
   "execution_count": 49,
   "id": "e68522ed-cecb-4522-b39c-fc7c1d04d99d",
   "metadata": {
    "tags": []
   },
   "outputs": [
    {
     "data": {
      "text/plain": [
       "array([-1, -1, -1])"
      ]
     },
     "execution_count": 49,
     "metadata": {},
     "output_type": "execute_result"
    }
   ],
   "source": [
    "np.subtract(np.array([1, 1, 1]), np.array([2, 2, 2]))"
   ]
  },
  {
   "cell_type": "markdown",
   "id": "70caad97-8193-4d5d-be79-4ef30f8a8492",
   "metadata": {
    "tags": []
   },
   "source": [
    "#### Stats"
   ]
  },
  {
   "cell_type": "code",
   "execution_count": 52,
   "id": "7f8f13c9-4d38-43d4-be21-ecd44471aaf8",
   "metadata": {
    "tags": []
   },
   "outputs": [
    {
     "data": {
      "text/plain": [
       "3"
      ]
     },
     "execution_count": 52,
     "metadata": {},
     "output_type": "execute_result"
    }
   ],
   "source": [
    "np.array([1, 2, 3]).max()"
   ]
  },
  {
   "cell_type": "code",
   "execution_count": 53,
   "id": "4d596252-e328-496c-be36-2750ef872635",
   "metadata": {
    "tags": []
   },
   "outputs": [
    {
     "data": {
      "text/plain": [
       "1"
      ]
     },
     "execution_count": 53,
     "metadata": {},
     "output_type": "execute_result"
    }
   ],
   "source": [
    "np.array([1, 2, 3]).min()"
   ]
  },
  {
   "cell_type": "code",
   "execution_count": 55,
   "id": "81476dcf-dd02-425e-84a7-1302d0a2f22c",
   "metadata": {
    "tags": []
   },
   "outputs": [
    {
     "data": {
      "text/plain": [
       "2.5"
      ]
     },
     "execution_count": 55,
     "metadata": {},
     "output_type": "execute_result"
    }
   ],
   "source": [
    "# (1 + 2 + 3 + 4) / 4 = 10 / 4 = 2.5\n",
    "np.array([1, 2, 3, 4]).mean()"
   ]
  },
  {
   "cell_type": "code",
   "execution_count": 61,
   "id": "2fd4959f-a3cf-4718-935e-81a497ce3ff8",
   "metadata": {
    "tags": []
   },
   "outputs": [
    {
     "data": {
      "text/plain": [
       "3.0"
      ]
     },
     "execution_count": 61,
     "metadata": {},
     "output_type": "execute_result"
    }
   ],
   "source": [
    "# median(1, 2, 8, 3, 4) \n",
    "# order 1, 2, 3, 4, 8\n",
    "# select the middle element 3\n",
    "np.median(np.array([1, 2, 8, 3, 4]))"
   ]
  },
  {
   "cell_type": "code",
   "execution_count": 63,
   "id": "71339dd5-1a06-4ee1-b208-5289c611eb48",
   "metadata": {
    "tags": []
   },
   "outputs": [
    {
     "data": {
      "text/plain": [
       "3.25"
      ]
     },
     "execution_count": 63,
     "metadata": {},
     "output_type": "execute_result"
    }
   ],
   "source": [
    "# median(1, 2, 8, 3, 4, 3.5) \n",
    "# order 1, 2, 3, 3.5, 4, 8\n",
    "# calculate the mean of the elements in the middle (3 + 3.5) / 2 = 3.25\n",
    "np.median(np.array([1, 2, 8, 3, 4, 3.5]))"
   ]
  },
  {
   "cell_type": "markdown",
   "id": "c4c63690-2782-4f3a-bad5-bd5bd57233d2",
   "metadata": {
    "tags": []
   },
   "source": [
    "## Pandas"
   ]
  },
  {
   "cell_type": "markdown",
   "id": "0f183121-c7de-4216-84ef-50888cecbb9e",
   "metadata": {
    "tags": []
   },
   "source": [
    "### Create DataFrame"
   ]
  },
  {
   "cell_type": "code",
   "execution_count": 64,
   "id": "bd56963e-9f5e-4484-b85b-51a7c66e78f7",
   "metadata": {
    "tags": []
   },
   "outputs": [
    {
     "data": {
      "text/html": [
       "<div>\n",
       "<style scoped>\n",
       "    .dataframe tbody tr th:only-of-type {\n",
       "        vertical-align: middle;\n",
       "    }\n",
       "\n",
       "    .dataframe tbody tr th {\n",
       "        vertical-align: top;\n",
       "    }\n",
       "\n",
       "    .dataframe thead th {\n",
       "        text-align: right;\n",
       "    }\n",
       "</style>\n",
       "<table border=\"1\" class=\"dataframe\">\n",
       "  <thead>\n",
       "    <tr style=\"text-align: right;\">\n",
       "      <th></th>\n",
       "      <th>name</th>\n",
       "      <th>age</th>\n",
       "      <th>height</th>\n",
       "      <th>has_linux</th>\n",
       "      <th>grade</th>\n",
       "    </tr>\n",
       "  </thead>\n",
       "  <tbody>\n",
       "    <tr>\n",
       "      <th>0</th>\n",
       "      <td>Ana</td>\n",
       "      <td>28</td>\n",
       "      <td>1.72</td>\n",
       "      <td>True</td>\n",
       "      <td>8</td>\n",
       "    </tr>\n",
       "    <tr>\n",
       "      <th>1</th>\n",
       "      <td>Bruno</td>\n",
       "      <td>33</td>\n",
       "      <td>1.69</td>\n",
       "      <td>False</td>\n",
       "      <td>7</td>\n",
       "    </tr>\n",
       "    <tr>\n",
       "      <th>2</th>\n",
       "      <td>César</td>\n",
       "      <td>34</td>\n",
       "      <td>1.77</td>\n",
       "      <td>False</td>\n",
       "      <td>8</td>\n",
       "    </tr>\n",
       "    <tr>\n",
       "      <th>3</th>\n",
       "      <td>Diego</td>\n",
       "      <td>23</td>\n",
       "      <td>1.79</td>\n",
       "      <td>True</td>\n",
       "      <td>10</td>\n",
       "    </tr>\n",
       "    <tr>\n",
       "      <th>4</th>\n",
       "      <td>Erika</td>\n",
       "      <td>25</td>\n",
       "      <td>1.69</td>\n",
       "      <td>True</td>\n",
       "      <td>7</td>\n",
       "    </tr>\n",
       "  </tbody>\n",
       "</table>\n",
       "</div>"
      ],
      "text/plain": [
       "    name  age  height  has_linux  grade\n",
       "0    Ana   28    1.72       True      8\n",
       "1  Bruno   33    1.69      False      7\n",
       "2  César   34    1.77      False      8\n",
       "3  Diego   23    1.79       True     10\n",
       "4  Erika   25    1.69       True      7"
      ]
     },
     "execution_count": 64,
     "metadata": {},
     "output_type": "execute_result"
    }
   ],
   "source": [
    "pd.DataFrame({\n",
    "    'name': ['Ana', 'Bruno', 'César', 'Diego', 'Erika'],\n",
    "\t'age': [28, 33, 34, 23, 25],\n",
    "\t'height': [1.72, 1.69, 1.77, 1.79, 1.69],\n",
    "\t'has_linux': [True, False, False, True, True],\n",
    "\t'grade': [8, 7, 8, 10, 7]\n",
    "})"
   ]
  },
  {
   "cell_type": "code",
   "execution_count": 66,
   "id": "fe29e5e8-6fde-4174-b394-a5d1a3f6140e",
   "metadata": {
    "tags": []
   },
   "outputs": [
    {
     "data": {
      "text/html": [
       "<div>\n",
       "<style scoped>\n",
       "    .dataframe tbody tr th:only-of-type {\n",
       "        vertical-align: middle;\n",
       "    }\n",
       "\n",
       "    .dataframe tbody tr th {\n",
       "        vertical-align: top;\n",
       "    }\n",
       "\n",
       "    .dataframe thead th {\n",
       "        text-align: right;\n",
       "    }\n",
       "</style>\n",
       "<table border=\"1\" class=\"dataframe\">\n",
       "  <thead>\n",
       "    <tr style=\"text-align: right;\">\n",
       "      <th></th>\n",
       "      <th>name</th>\n",
       "      <th>age</th>\n",
       "      <th>height</th>\n",
       "      <th>has_linux</th>\n",
       "      <th>grade</th>\n",
       "    </tr>\n",
       "  </thead>\n",
       "  <tbody>\n",
       "    <tr>\n",
       "      <th>0</th>\n",
       "      <td>Ana</td>\n",
       "      <td>Bruno</td>\n",
       "      <td>César</td>\n",
       "      <td>Diego</td>\n",
       "      <td>Erika</td>\n",
       "    </tr>\n",
       "    <tr>\n",
       "      <th>1</th>\n",
       "      <td>28</td>\n",
       "      <td>33</td>\n",
       "      <td>34</td>\n",
       "      <td>23</td>\n",
       "      <td>25</td>\n",
       "    </tr>\n",
       "    <tr>\n",
       "      <th>2</th>\n",
       "      <td>1.72</td>\n",
       "      <td>1.69</td>\n",
       "      <td>1.77</td>\n",
       "      <td>1.79</td>\n",
       "      <td>1.69</td>\n",
       "    </tr>\n",
       "    <tr>\n",
       "      <th>3</th>\n",
       "      <td>True</td>\n",
       "      <td>False</td>\n",
       "      <td>False</td>\n",
       "      <td>True</td>\n",
       "      <td>True</td>\n",
       "    </tr>\n",
       "    <tr>\n",
       "      <th>4</th>\n",
       "      <td>8</td>\n",
       "      <td>7</td>\n",
       "      <td>8</td>\n",
       "      <td>10</td>\n",
       "      <td>7</td>\n",
       "    </tr>\n",
       "  </tbody>\n",
       "</table>\n",
       "</div>"
      ],
      "text/plain": [
       "   name    age height has_linux  grade\n",
       "0   Ana  Bruno  César     Diego  Erika\n",
       "1    28     33     34        23     25\n",
       "2  1.72   1.69   1.77      1.79   1.69\n",
       "3  True  False  False      True   True\n",
       "4     8      7      8        10      7"
      ]
     },
     "execution_count": 66,
     "metadata": {},
     "output_type": "execute_result"
    }
   ],
   "source": [
    "pd.DataFrame(\n",
    "    [\n",
    "        ['Ana', 'Bruno', 'César', 'Diego', 'Erika'],\n",
    "        [28, 33, 34, 23, 25],\n",
    "        [1.72, 1.69, 1.77, 1.79, 1.69],\n",
    "        [True, False, False, True, True],\n",
    "        [8, 7, 8, 10, 7]\n",
    "    ],\n",
    "    columns=[\"name\", \"age\", \"height\", \"has_linux\", \"grade\"]\n",
    ")"
   ]
  }
 ],
 "metadata": {
  "kernelspec": {
   "display_name": "Python 3 (ipykernel)",
   "language": "python",
   "name": "python3"
  },
  "language_info": {
   "codemirror_mode": {
    "name": "ipython",
    "version": 3
   },
   "file_extension": ".py",
   "mimetype": "text/x-python",
   "name": "python",
   "nbconvert_exporter": "python",
   "pygments_lexer": "ipython3",
   "version": "3.10.9"
  }
 },
 "nbformat": 4,
 "nbformat_minor": 5
}
